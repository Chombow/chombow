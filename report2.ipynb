{
  "nbformat": 4,
  "nbformat_minor": 0,
  "metadata": {
    "colab": {
      "name": "report",
      "provenance": [],
      "collapsed_sections": [],
      "toc_visible": true,
      "include_colab_link": true
    },
    "kernelspec": {
      "display_name": "Python 3",
      "name": "python3"
    }
  },
  "cells": [
    {
      "cell_type": "markdown",
      "metadata": {
        "id": "view-in-github",
        "colab_type": "text"
      },
      "source": [
        "<a href=\"https://colab.research.google.com/github/Chombow/chombow/blob/master/report2.ipynb\" target=\"_parent\"><img src=\"https://colab.research.google.com/assets/colab-badge.svg\" alt=\"Open In Colab\"/></a>"
      ]
    },
    {
      "cell_type": "code",
      "metadata": {
        "id": "zy7SUZFSGDLD",
        "outputId": "9a54a26e-a0e4-4571-f1af-d984085fe736",
        "colab": {
          "base_uri": "https://localhost:8080/"
        }
      },
      "source": [
        "pip install pulp"
      ],
      "execution_count": 1,
      "outputs": [
        {
          "output_type": "stream",
          "text": [
            "Requirement already satisfied: pulp in /usr/local/lib/python3.6/dist-packages (2.3.1)\n",
            "Requirement already satisfied: amply>=0.1.2 in /usr/local/lib/python3.6/dist-packages (from pulp) (0.1.4)\n",
            "Requirement already satisfied: docutils>=0.3 in /usr/local/lib/python3.6/dist-packages (from amply>=0.1.2->pulp) (0.16)\n",
            "Requirement already satisfied: pyparsing in /usr/local/lib/python3.6/dist-packages (from amply>=0.1.2->pulp) (2.4.7)\n"
          ],
          "name": "stdout"
        }
      ]
    },
    {
      "cell_type": "code",
      "metadata": {
        "id": "92fNj2JDHV0m"
      },
      "source": [
        "import pulp"
      ],
      "execution_count": 2,
      "outputs": []
    },
    {
      "cell_type": "code",
      "metadata": {
        "id": "Us94oBbxHfWu"
      },
      "source": [
        "import sys"
      ],
      "execution_count": 3,
      "outputs": []
    },
    {
      "cell_type": "code",
      "metadata": {
        "id": "tXbsWmBfKIfu"
      },
      "source": [
        "problem = pulp.LpProblem('prom_1',pulp.LpMaximize)"
      ],
      "execution_count": 4,
      "outputs": []
    },
    {
      "cell_type": "code",
      "metadata": {
        "id": "oNuzC1hEKbtP"
      },
      "source": [
        "MIN,MAX = 0,100000"
      ],
      "execution_count": 5,
      "outputs": []
    },
    {
      "cell_type": "markdown",
      "metadata": {
        "id": "kkWmeqv5vkAE"
      },
      "source": [
        "給油機の片道航続距離をそれぞれx1～x4とする。ただしx5は、単独航続距離である。"
      ]
    },
    {
      "cell_type": "code",
      "metadata": {
        "id": "JTFKDGFGOXxW"
      },
      "source": [
        "x1 = pulp.LpVariable('x1',MIN,MAX,'Continuous')\n",
        "x2 = pulp.LpVariable('x2',MIN,MAX,'Continuous')\n",
        "x3 = pulp.LpVariable('x3',MIN,MAX,'Continuous')\n",
        "x4 = pulp.LpVariable('x4',MIN,MAX,'Continuous')\n",
        "x5 = pulp.LpVariable('x5',MIN,MAX,'Continuous')\n",
        "x6 = pulp.LpVariable('x6',MIN,MAX,'Continuous')"
      ],
      "execution_count": 6,
      "outputs": []
    },
    {
      "cell_type": "code",
      "metadata": {
        "id": "s4Jo6k7ZQaE_"
      },
      "source": [
        "problem += (x1+x2+x3+x4+x5+x6)\n",
        "\n",
        "problem +=(11*x1+9*x2+7*x3+5*x4+3*x5+x6<=14000*6)\n",
        "problem +=(9*x2+7*x3+5*x4+3*x5+x6<=14000*5)\n",
        "problem +=(7*x3+5*x4+3*x5+x6<=14000*4)\n",
        "problem +=(5*x4+3*x5+x6<=14000*3)\n",
        "problem +=(3*x5+x6<=14000*2)\n",
        "problem +=(x6<=14000)"
      ],
      "execution_count": 7,
      "outputs": []
    },
    {
      "cell_type": "code",
      "metadata": {
        "id": "XYElfvqZy27E"
      },
      "source": [
        "status =problem.solve()"
      ],
      "execution_count": 8,
      "outputs": []
    },
    {
      "cell_type": "code",
      "metadata": {
        "id": "mSng_tvwzAt8",
        "outputId": "b92c194f-ee2f-4f8b-e315-2987b2d2fcfe",
        "colab": {
          "base_uri": "https://localhost:8080/"
        }
      },
      "source": [
        "print(\"Status\", pulp.LpStatus[status],'\\n')"
      ],
      "execution_count": 9,
      "outputs": [
        {
          "output_type": "stream",
          "text": [
            "Status Optimal \n",
            "\n"
          ],
          "name": "stdout"
        }
      ]
    },
    {
      "cell_type": "code",
      "metadata": {
        "id": "-ZiJtglkza41",
        "outputId": "a095a293-932b-43d7-bcc4-da40df6de713",
        "colab": {
          "base_uri": "https://localhost:8080/"
        }
      },
      "source": [
        "print(problem)"
      ],
      "execution_count": 10,
      "outputs": [
        {
          "output_type": "stream",
          "text": [
            "prom_1:\n",
            "MAXIMIZE\n",
            "1*x1 + 1*x2 + 1*x3 + 1*x4 + 1*x5 + 1*x6 + 0\n",
            "SUBJECT TO\n",
            "_C1: 11 x1 + 9 x2 + 7 x3 + 5 x4 + 3 x5 + x6 <= 84000\n",
            "\n",
            "_C2: 9 x2 + 7 x3 + 5 x4 + 3 x5 + x6 <= 70000\n",
            "\n",
            "_C3: 7 x3 + 5 x4 + 3 x5 + x6 <= 56000\n",
            "\n",
            "_C4: 5 x4 + 3 x5 + x6 <= 42000\n",
            "\n",
            "_C5: 3 x5 + x6 <= 28000\n",
            "\n",
            "_C6: x6 <= 14000\n",
            "\n",
            "VARIABLES\n",
            "x1 <= 100000 Continuous\n",
            "x2 <= 100000 Continuous\n",
            "x3 <= 100000 Continuous\n",
            "x4 <= 100000 Continuous\n",
            "x5 <= 100000 Continuous\n",
            "x6 <= 100000 Continuous\n",
            "\n"
          ],
          "name": "stdout"
        }
      ]
    },
    {
      "cell_type": "code",
      "metadata": {
        "id": "UNyyRTXezeWT",
        "outputId": "b1fc88c5-5bce-4727-de6e-9a887ae07760",
        "colab": {
          "base_uri": "https://localhost:8080/"
        }
      },
      "source": [
        "print('目的函数値 =',problem.objective.value())"
      ],
      "execution_count": 11,
      "outputs": [
        {
          "output_type": "stream",
          "text": [
            "目的函数値 = 26294.9496\n"
          ],
          "name": "stdout"
        }
      ]
    },
    {
      "cell_type": "code",
      "metadata": {
        "id": "gTeplx6p0B-m",
        "outputId": "990ac611-4395-4ef5-db38-b9ff40421992",
        "colab": {
          "base_uri": "https://localhost:8080/"
        }
      },
      "source": [
        "print(x1,x1.value())\n",
        "print(x2,x2.value())\n",
        "print(x3,x3.value())\n",
        "print(x4,x4.value())\n",
        "print(x5,x5.value())\n",
        "print(x5,x6.value())\n"
      ],
      "execution_count": 13,
      "outputs": [
        {
          "output_type": "stream",
          "text": [
            "x1 1272.7273\n",
            "x2 1555.5556\n",
            "x3 2000.0\n",
            "x4 2800.0\n",
            "x5 4666.6667\n",
            "x5 14000.0\n"
          ],
          "name": "stdout"
        }
      ]
    }
  ]
}