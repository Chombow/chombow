{
  "nbformat": 4,
  "nbformat_minor": 0,
  "metadata": {
    "colab": {
      "name": "report",
      "provenance": [],
      "collapsed_sections": [],
      "toc_visible": true,
      "include_colab_link": true
    },
    "kernelspec": {
      "display_name": "Python 3",
      "name": "python3"
    }
  },
  "cells": [
    {
      "cell_type": "markdown",
      "metadata": {
        "id": "view-in-github",
        "colab_type": "text"
      },
      "source": [
        "<a href=\"https://colab.research.google.com/github/Chombow/chombow/blob/master/report.ipynb\" target=\"_parent\"><img src=\"https://colab.research.google.com/assets/colab-badge.svg\" alt=\"Open In Colab\"/></a>"
      ]
    },
    {
      "cell_type": "markdown",
      "metadata": {
        "id": "TvGz1SBujWPX"
      },
      "source": [
        "航空機は、燃料に限りがあり燃料が尽きると\n",
        "ここでは簡単のため互いに給油できるとし、空中給油機5機を使い、できるだけ遠くに到達できるように計画する。\n",
        "## 仮定\n",
        "KC-767の諸元をもとに仮定する。\n",
        "空中給油機は、７０ｔの燃料を載せられる。\n",
        "空中空輸機は、１㎏あたり0.2㎞進む。\n",
        "つまり、最大航続距離は14000㎞である。\n",
        "給油機のうち4機は、基地に戻らなくてはいけない。\n",
        "巡行速度は、700km/hとする。\n",
        "\n",
        "# 前提\n",
        "例えば、2機の空輸機による航続距離は、１機目が燃料1/3分に位置で折り返し、2機目が1/3分の燃料を受け取れば航続距離が最大になる。ただし3機以降は、必ずしも1/3で折り返すとは限らない。\n",
        "このような前提で定式化する。\n"
      ]
    },
    {
      "cell_type": "code",
      "metadata": {
        "id": "zy7SUZFSGDLD",
        "outputId": "3c5caec2-c40f-446b-e250-98418bee8bb7",
        "colab": {
          "base_uri": "https://localhost:8080/"
        }
      },
      "source": [
        "pip install pulp"
      ],
      "execution_count": 1,
      "outputs": [
        {
          "output_type": "stream",
          "text": [
            "Requirement already satisfied: pulp in /usr/local/lib/python3.6/dist-packages (2.3.1)\n",
            "Requirement already satisfied: amply>=0.1.2 in /usr/local/lib/python3.6/dist-packages (from pulp) (0.1.4)\n",
            "Requirement already satisfied: docutils>=0.3 in /usr/local/lib/python3.6/dist-packages (from amply>=0.1.2->pulp) (0.16)\n",
            "Requirement already satisfied: pyparsing in /usr/local/lib/python3.6/dist-packages (from amply>=0.1.2->pulp) (2.4.7)\n"
          ],
          "name": "stdout"
        }
      ]
    },
    {
      "cell_type": "code",
      "metadata": {
        "id": "92fNj2JDHV0m"
      },
      "source": [
        "import pulp"
      ],
      "execution_count": 2,
      "outputs": []
    },
    {
      "cell_type": "code",
      "metadata": {
        "id": "Us94oBbxHfWu"
      },
      "source": [
        "import sys"
      ],
      "execution_count": 3,
      "outputs": []
    },
    {
      "cell_type": "code",
      "metadata": {
        "id": "tXbsWmBfKIfu"
      },
      "source": [
        "problem = pulp.LpProblem('prom_1',pulp.LpMaximize)"
      ],
      "execution_count": 4,
      "outputs": []
    },
    {
      "cell_type": "code",
      "metadata": {
        "id": "oNuzC1hEKbtP"
      },
      "source": [
        "MIN,MAX = 0,10000"
      ],
      "execution_count": 5,
      "outputs": []
    },
    {
      "cell_type": "markdown",
      "metadata": {
        "id": "kkWmeqv5vkAE"
      },
      "source": [
        "給油機の片道航続距離をそれぞれx1～x4とする。ただしx5は、単独航続距離である。"
      ]
    },
    {
      "cell_type": "code",
      "metadata": {
        "id": "JTFKDGFGOXxW"
      },
      "source": [
        "x1 = pulp.LpVariable('x1',MIN,MAX,'Continuous')\n",
        "x2 = pulp.LpVariable('x2',MIN,MAX,'Continuous')\n",
        "x3 = pulp.LpVariable('x3',MIN,MAX,'Continuous')\n",
        "x4 = pulp.LpVariable('x4',MIN,MAX,'Continuous')\n",
        "x5 = pulp.LpVariable('x5',MIN,MAX,'Continuous')"
      ],
      "execution_count": 6,
      "outputs": []
    },
    {
      "cell_type": "code",
      "metadata": {
        "id": "s4Jo6k7ZQaE_"
      },
      "source": [
        "problem += (x1+x2+x3+x4+x5)\n",
        "\n",
        "problem +=(x1>=0)\n",
        "problem +=(x2>=0)\n",
        "problem +=(x3>=0)\n",
        "problem +=(x4>=0)\n",
        "problem +=(x5>=0)\n",
        "problem +=(9*x1+7*x2+5*x3+3*x4+x5<=14000*5)\n",
        "problem +=(7*x2+5*x3+3*x4+x5<=14000*4)\n",
        "problem +=(5*x3+3*x4+x5<=14000*3)\n",
        "problem +=(3*x4+x5<=14000*2)\n",
        "problem +=(x5<=14000)"
      ],
      "execution_count": 7,
      "outputs": []
    },
    {
      "cell_type": "code",
      "metadata": {
        "id": "XYElfvqZy27E"
      },
      "source": [
        "status =problem.solve()"
      ],
      "execution_count": 8,
      "outputs": []
    },
    {
      "cell_type": "code",
      "metadata": {
        "id": "mSng_tvwzAt8",
        "outputId": "8a140eec-3b8e-455c-9f93-d3a7ac4d1303",
        "colab": {
          "base_uri": "https://localhost:8080/"
        }
      },
      "source": [
        "print(\"Status\", pulp.LpStatus[status],'\\n')"
      ],
      "execution_count": 9,
      "outputs": [
        {
          "output_type": "stream",
          "text": [
            "Status Optimal \n",
            "\n"
          ],
          "name": "stdout"
        }
      ]
    },
    {
      "cell_type": "code",
      "metadata": {
        "id": "-ZiJtglkza41",
        "outputId": "b4c70eb9-d36c-4963-9051-a1dded218bae",
        "colab": {
          "base_uri": "https://localhost:8080/"
        }
      },
      "source": [
        "print(problem)"
      ],
      "execution_count": 10,
      "outputs": [
        {
          "output_type": "stream",
          "text": [
            "prom_1:\n",
            "MAXIMIZE\n",
            "1*x1 + 1*x2 + 1*x3 + 1*x4 + 1*x5 + 0\n",
            "SUBJECT TO\n",
            "_C1: x1 >= 0\n",
            "\n",
            "_C2: x2 >= 0\n",
            "\n",
            "_C3: x3 >= 0\n",
            "\n",
            "_C4: x4 >= 0\n",
            "\n",
            "_C5: x5 >= 0\n",
            "\n",
            "_C6: 9 x1 + 7 x2 + 5 x3 + 3 x4 + x5 <= 70000\n",
            "\n",
            "_C7: 7 x2 + 5 x3 + 3 x4 + x5 <= 56000\n",
            "\n",
            "_C8: 5 x3 + 3 x4 + x5 <= 42000\n",
            "\n",
            "_C9: 3 x4 + x5 <= 28000\n",
            "\n",
            "_C10: x5 <= 14000\n",
            "\n",
            "VARIABLES\n",
            "x1 <= 10000 Continuous\n",
            "x2 <= 10000 Continuous\n",
            "x3 <= 10000 Continuous\n",
            "x4 <= 10000 Continuous\n",
            "x5 <= 10000 Continuous\n",
            "\n"
          ],
          "name": "stdout"
        }
      ]
    },
    {
      "cell_type": "code",
      "metadata": {
        "id": "UNyyRTXezeWT",
        "outputId": "0213c500-149d-44a2-f776-1a854282992a",
        "colab": {
          "base_uri": "https://localhost:8080/"
        }
      },
      "source": [
        "print('目的函数値 =',problem.objective.value())"
      ],
      "execution_count": 11,
      "outputs": [
        {
          "output_type": "stream",
          "text": [
            "目的函数値 = 22355.5556\n"
          ],
          "name": "stdout"
        }
      ]
    },
    {
      "cell_type": "code",
      "metadata": {
        "id": "gTeplx6p0B-m",
        "outputId": "a00ec990-5d6b-4470-994a-8c06e3349f7e",
        "colab": {
          "base_uri": "https://localhost:8080/"
        }
      },
      "source": [
        "print(x1,x1.value())\n",
        "print(x2,x2.value())\n",
        "print(x3,x3.value())\n",
        "print(x4,x4.value())\n",
        "print(x5,x5.value())\n"
      ],
      "execution_count": 12,
      "outputs": [
        {
          "output_type": "stream",
          "text": [
            "x1 1555.5556\n",
            "x2 2000.0\n",
            "x3 2800.0\n",
            "x4 6000.0\n",
            "x5 10000.0\n"
          ],
          "name": "stdout"
        }
      ]
    }
  ]
}